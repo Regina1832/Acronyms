{
  "nbformat": 4,
  "nbformat_minor": 0,
  "metadata": {
    "kernelspec": {
      "display_name": "Python 3",
      "language": "python",
      "name": "python3"
    },
    "language_info": {
      "codemirror_mode": {
        "name": "ipython",
        "version": 3
      },
      "file_extension": ".py",
      "mimetype": "text/x-python",
      "name": "python",
      "nbconvert_exporter": "python",
      "pygments_lexer": "ipython3",
      "version": "3.7.1"
    },
    "colab": {
      "name": "final.ipynb",
      "provenance": [],
      "include_colab_link": true
    }
  },
  "cells": [
    {
      "cell_type": "markdown",
      "metadata": {
        "id": "view-in-github",
        "colab_type": "text"
      },
      "source": [
        "<a href=\"https://colab.research.google.com/github/Regina1832/Acronyms/blob/main/final.ipynb\" target=\"_parent\"><img src=\"https://colab.research.google.com/assets/colab-badge.svg\" alt=\"Open In Colab\"/></a>"
      ]
    },
    {
      "cell_type": "code",
      "metadata": {
        "id": "EG2LejQgIiVm"
      },
      "source": [
        "import  pandas as  pd"
      ],
      "execution_count": 1,
      "outputs": []
    },
    {
      "cell_type": "code",
      "metadata": {
        "colab": {
          "base_uri": "https://localhost:8080/",
          "height": 204
        },
        "id": "ZC-mz-72IiVx",
        "outputId": "c023e53b-c3d7-4730-fd38-5a39d0c441a8"
      },
      "source": [
        "dataset = pd.read_csv('test.csv')\n",
        "\n",
        "df = pd.DataFrame(dataset) \n",
        "df.head()"
      ],
      "execution_count": 3,
      "outputs": [
        {
          "output_type": "execute_result",
          "data": {
            "text/html": [
              "<div>\n",
              "<style scoped>\n",
              "    .dataframe tbody tr th:only-of-type {\n",
              "        vertical-align: middle;\n",
              "    }\n",
              "\n",
              "    .dataframe tbody tr th {\n",
              "        vertical-align: top;\n",
              "    }\n",
              "\n",
              "    .dataframe thead th {\n",
              "        text-align: right;\n",
              "    }\n",
              "</style>\n",
              "<table border=\"1\" class=\"dataframe\">\n",
              "  <thead>\n",
              "    <tr style=\"text-align: right;\">\n",
              "      <th></th>\n",
              "      <th>F1</th>\n",
              "      <th>F2</th>\n",
              "      <th>F3</th>\n",
              "      <th>F4</th>\n",
              "      <th>target</th>\n",
              "    </tr>\n",
              "  </thead>\n",
              "  <tbody>\n",
              "    <tr>\n",
              "      <th>0</th>\n",
              "      <td>a1</td>\n",
              "      <td>10</td>\n",
              "      <td>50</td>\n",
              "      <td>12</td>\n",
              "      <td>1</td>\n",
              "    </tr>\n",
              "    <tr>\n",
              "      <th>1</th>\n",
              "      <td>a2</td>\n",
              "      <td>12</td>\n",
              "      <td>110</td>\n",
              "      <td>11</td>\n",
              "      <td>1</td>\n",
              "    </tr>\n",
              "    <tr>\n",
              "      <th>2</th>\n",
              "      <td>a3</td>\n",
              "      <td>13</td>\n",
              "      <td>90</td>\n",
              "      <td>12</td>\n",
              "      <td>1</td>\n",
              "    </tr>\n",
              "    <tr>\n",
              "      <th>3</th>\n",
              "      <td>a4</td>\n",
              "      <td>86</td>\n",
              "      <td>35</td>\n",
              "      <td>7</td>\n",
              "      <td>1</td>\n",
              "    </tr>\n",
              "    <tr>\n",
              "      <th>4</th>\n",
              "      <td>a5</td>\n",
              "      <td>10</td>\n",
              "      <td>70</td>\n",
              "      <td>9</td>\n",
              "      <td>1</td>\n",
              "    </tr>\n",
              "  </tbody>\n",
              "</table>\n",
              "</div>"
            ],
            "text/plain": [
              "   F1  F2   F3  F4  target\n",
              "0  a1  10   50  12       1\n",
              "1  a2  12  110  11       1\n",
              "2  a3  13   90  12       1\n",
              "3  a4  86   35   7       1\n",
              "4  a5  10   70   9       1"
            ]
          },
          "metadata": {},
          "execution_count": 3
        }
      ]
    },
    {
      "cell_type": "code",
      "metadata": {
        "id": "BaupHMitIiVz"
      },
      "source": [
        "import  matplotlib.pyplot as plt"
      ],
      "execution_count": 4,
      "outputs": []
    },
    {
      "cell_type": "code",
      "metadata": {
        "colab": {
          "base_uri": "https://localhost:8080/",
          "height": 265
        },
        "id": "NUMc2x5UIiV1",
        "outputId": "5f8e802b-4fac-4257-dec7-5033e429e8c2"
      },
      "source": [
        "plt.hist(df[0:30].F2  , bins='auto'  ,color='r',density=True);\n",
        "plt.hist(df[31: ].F2 , bins='auto'  ,color='b',density=True);\n",
        "\n",
        "from matplotlib.patches import Rectangle\n",
        "cc = plt.get_cmap('jet')\n",
        "h = [Rectangle((0,0),1,1,color=c,ec=\"k\") for c in [cc(0.85),cc(0.25)]]\n",
        "\n",
        "plt.legend(h , [\"class1\",\"class2\"]);"
      ],
      "execution_count": 5,
      "outputs": [
        {
          "output_type": "display_data",
          "data": {
            "image/png": "[encoded data removed]",
            "text/plain": [
              "<Figure size 432x288 with 1 Axes>"
            ]
          },
          "metadata": {
            "needs_background": "light"
          }
        }
      ]
    },
    {
      "cell_type": "code",
      "metadata": {
        "id": "EPmoonEeIiV2"
      },
      "source": [
        "C1   = df[0:30].F3\n",
        "C2   = df[31: ].F3\n",
        "data =[C1 ,C2]"
      ],
      "execution_count": 6,
      "outputs": []
    },
    {
      "cell_type": "code",
      "metadata": {
        "colab": {
          "base_uri": "https://localhost:8080/",
          "height": 319
        },
        "id": "63MQ4Xh6IiV3",
        "outputId": "cf3dce5a-ab6f-4e1e-b84c-56bb161dd4a2"
      },
      "source": [
        "plt.boxplot(data, notch=True , showfliers=False );     #, patch_artist=True"
      ],
      "execution_count": 7,
      "outputs": [
        {
          "output_type": "stream",
          "name": "stderr",
          "text": [
            "/usr/local/lib/python3.7/dist-packages/numpy/core/_asarray.py:83: VisibleDeprecationWarning: Creating an ndarray from ragged nested sequences (which is a list-or-tuple of lists-or-tuples-or ndarrays with different lengths or shapes) is deprecated. If you meant to do this, you must specify 'dtype=object' when creating the ndarray\n",
            "  return array(a, dtype, copy=False, order=order)\n"
          ]
        },
        {
          "output_type": "display_data",
          "data": {
            "image/png": "[encoded data removed]",
            "text/plain": [
              "<Figure size 432x288 with 1 Axes>"
            ]
          },
          "metadata": {
            "needs_background": "light"
          }
        }
      ]
    },
    {
      "cell_type": "code",
      "metadata": {
        "colab": {
          "base_uri": "https://localhost:8080/",
          "height": 388
        },
        "id": "qjk9QbrHIiV5",
        "outputId": "f2832940-5d29-48af-dcab-d62a14f8e921"
      },
      "source": [
        "fig, ax1 = plt.subplots(figsize=(8, 5))\n",
        "fig.subplots_adjust(left=0.5, right=0.9, top=1, bottom=0.25)\n",
        "\n",
        "bp = plt.boxplot(data, patch_artist=True, notch=True, vert=1, whis=2) #,  sym='w'\n",
        "\n",
        "plt.setp( bp['boxes']    , color='b')\n",
        "plt.setp( bp['whiskers'] , color='g')\n",
        "plt.setp( bp['fliers']   , color='r', marker='+')\n",
        "\n",
        "\n",
        "ax1.set_title('F2')\n",
        "ax1.set_ylabel('Value')\n",
        "ax1.yaxis.grid(True, linestyle='-', which='major', color='lightgrey', alpha=0.5)\n"
      ],
      "execution_count": 8,
      "outputs": [
        {
          "output_type": "stream",
          "name": "stderr",
          "text": [
            "/usr/local/lib/python3.7/dist-packages/numpy/core/_asarray.py:83: VisibleDeprecationWarning: Creating an ndarray from ragged nested sequences (which is a list-or-tuple of lists-or-tuples-or ndarrays with different lengths or shapes) is deprecated. If you meant to do this, you must specify 'dtype=object' when creating the ndarray\n",
            "  return array(a, dtype, copy=False, order=order)\n"
          ]
        },
        {
          "output_type": "display_data",
          "data": {
            "image/png": "[encoded data removed]",
            "text/plain": [
              "<Figure size 576x360 with 1 Axes>"
            ]
          },
          "metadata": {
            "needs_background": "light"
          }
        }
      ]
    },
    {
      "cell_type": "code",
      "metadata": {
        "colab": {
          "base_uri": "https://localhost:8080/",
          "height": 265
        },
        "id": "QpG-f6c5IiV7",
        "outputId": "6198ac9e-b91b-4098-f176-9202e236cc0d"
      },
      "source": [
        "import seaborn as s\n",
        "ax = s.boxplot(data=data , linewidth=2 , notch=True , palette=\"Set1\" ) \n",
        "#ax = s.swarmplot(data=data, color=\"0.25\")"
      ],
      "execution_count": 9,
      "outputs": [
        {
          "output_type": "display_data",
          "data": {
            "image/png": "[encoded data removed]",
            "text/plain": [
              "<Figure size 432x288 with 1 Axes>"
            ]
          },
          "metadata": {
            "needs_background": "light"
          }
        }
      ]
    },
    {
      "cell_type": "code",
      "metadata": {
        "id": "fcvKsd1-IiV9"
      },
      "source": [
        "dfd = df.drop( ['F1'] , axis=1 )"
      ],
      "execution_count": 10,
      "outputs": []
    },
    {
      "cell_type": "code",
      "metadata": {
        "id": "L2dD-P5qIiV_"
      },
      "source": [
        "X = dfd.drop( ['target'] , axis = 1 )\n",
        "y = dfd['target'] "
      ],
      "execution_count": 11,
      "outputs": []
    },
    {
      "cell_type": "code",
      "metadata": {
        "id": "pr2tZnMzIiWB"
      },
      "source": [
        "from  sklearn.linear_model      import  LogisticRegression\n",
        "from  sklearn.neural_network    import  MLPClassifier\n",
        "from  sklearn                   import  svm\n",
        "from  sklearn.svm               import  SVC\n",
        "from  sklearn.tree              import  DecisionTreeClassifier"
      ],
      "execution_count": 12,
      "outputs": []
    },
    {
      "cell_type": "code",
      "metadata": {
        "id": "FBWGOJRwIiWC"
      },
      "source": [
        "LR  = LogisticRegression(solver='lbfgs' , random_state=0 , C=0.3, penalty='l2')\n",
        "#MLP = MLPClassifier(solver='lbfgs', hidden_layer_sizes=(1) , alpha=1e-5, random_state=1) \n",
        "#SVM = SVC(C=1, kernel = 'rbf', random_state = 0, gamma='scale')    \n",
        "#SVM = SVC(kernel='linear', C=1)  \n",
        "#SVM = SVC(kernel='poly', degree=2, C=0.5, gamma='scale')   \n",
        "#DT  = DecisionTreeClassifier(criterion='gini', max_depth=3, random_state=0)"
      ],
      "execution_count": 13,
      "outputs": []
    },
    {
      "cell_type": "code",
      "metadata": {
        "id": "JMErdZE6IiWD"
      },
      "source": [
        "from sklearn.model_selection import train_test_split"
      ],
      "execution_count": 14,
      "outputs": []
    },
    {
      "cell_type": "code",
      "metadata": {
        "id": "vMElKG8aIiWE"
      },
      "source": [
        "Xtrain, Xtest, ytrain, ytest = train_test_split(X, y, test_size=0.3, random_state=0)"
      ],
      "execution_count": 15,
      "outputs": []
    },
    {
      "cell_type": "code",
      "metadata": {
        "colab": {
          "base_uri": "https://localhost:8080/"
        },
        "id": "cjUt75cBIiWE",
        "outputId": "2962235c-ccaa-4028-ea5f-f5ef48a0e060"
      },
      "source": [
        "Xtrain.shape"
      ],
      "execution_count": 16,
      "outputs": [
        {
          "output_type": "execute_result",
          "data": {
            "text/plain": [
              "(35, 3)"
            ]
          },
          "metadata": {},
          "execution_count": 16
        }
      ]
    },
    {
      "cell_type": "code",
      "metadata": {
        "colab": {
          "base_uri": "https://localhost:8080/"
        },
        "id": "m0sXtRqLIiWF",
        "outputId": "78362366-c01f-42fb-ea4d-afbb410c271c"
      },
      "source": [
        "ytest.shape"
      ],
      "execution_count": 17,
      "outputs": [
        {
          "output_type": "execute_result",
          "data": {
            "text/plain": [
              "(15,)"
            ]
          },
          "metadata": {},
          "execution_count": 17
        }
      ]
    },
    {
      "cell_type": "code",
      "metadata": {
        "colab": {
          "base_uri": "https://localhost:8080/"
        },
        "id": "Ce6g6E_FIiWG",
        "outputId": "e695583a-b16e-4b96-acdc-a5c1903d23c3"
      },
      "source": [
        "ytest"
      ],
      "execution_count": 18,
      "outputs": [
        {
          "output_type": "execute_result",
          "data": {
            "text/plain": [
              "28    1\n",
              "11    1\n",
              "10    1\n",
              "41    0\n",
              "2     1\n",
              "27    1\n",
              "38    0\n",
              "31    0\n",
              "22    1\n",
              "4     1\n",
              "33    0\n",
              "35    0\n",
              "26    1\n",
              "34    0\n",
              "18    1\n",
              "Name: target, dtype: int64"
            ]
          },
          "metadata": {},
          "execution_count": 18
        }
      ]
    },
    {
      "cell_type": "code",
      "metadata": {
        "id": "oA1MR5MIIiWG"
      },
      "source": [
        "from sklearn.preprocessing import StandardScaler  \n",
        "scaler = StandardScaler()  \n",
        "scaler.fit(Xtrain)  \n",
        "Xtrain = scaler.transform(Xtrain)  \n",
        "Xtest  = scaler.transform(Xtest) "
      ],
      "execution_count": 19,
      "outputs": []
    },
    {
      "cell_type": "code",
      "metadata": {
        "id": "l_Hs1KijIiWH"
      },
      "source": [
        "LR.fit (Xtrain , ytrain);\n",
        "#MLP.fit(Xtrain , ytrain) \n",
        "#SVM.fit(Xtrain , ytrain)\n",
        "#DT.fit (Xtrain , ytrain)\n"
      ],
      "execution_count": 20,
      "outputs": []
    },
    {
      "cell_type": "code",
      "metadata": {
        "id": "r-4830hTIiWI"
      },
      "source": [
        "ypLR   = LR.predict(Xtest)\n",
        "#ypMLP  = MLP.predict(Xtest)\n",
        "#ypSVM  = SVM.predict(Xtest)\n",
        "#ypDT   = DT.predict(Xtest)"
      ],
      "execution_count": 21,
      "outputs": []
    },
    {
      "cell_type": "code",
      "metadata": {
        "id": "kIq_ZtJKIiWJ"
      },
      "source": [
        "from  sklearn.metrics   import  classification_report"
      ],
      "execution_count": 22,
      "outputs": []
    },
    {
      "cell_type": "code",
      "metadata": {
        "colab": {
          "base_uri": "https://localhost:8080/"
        },
        "id": "ePS2MAegIiWJ",
        "outputId": "df7e21f6-692c-4000-a61b-eea89f46e80f"
      },
      "source": [
        "print(classification_report(ytest, ypLR , target_names=['CLASS2', 'CLASS1'] ))"
      ],
      "execution_count": 23,
      "outputs": [
        {
          "output_type": "stream",
          "name": "stdout",
          "text": [
            "              precision    recall  f1-score   support\n",
            "\n",
            "      CLASS2       1.00      0.50      0.67         6\n",
            "      CLASS1       0.75      1.00      0.86         9\n",
            "\n",
            "    accuracy                           0.80        15\n",
            "   macro avg       0.88      0.75      0.76        15\n",
            "weighted avg       0.85      0.80      0.78        15\n",
            "\n"
          ]
        }
      ]
    },
    {
      "cell_type": "code",
      "metadata": {
        "id": "4_g5rUn0IiWK"
      },
      "source": [
        "from  sklearn.metrics   import  confusion_matrix"
      ],
      "execution_count": 24,
      "outputs": []
    },
    {
      "cell_type": "code",
      "metadata": {
        "colab": {
          "base_uri": "https://localhost:8080/"
        },
        "id": "BjDwnlMbIiWL",
        "outputId": "ce030880-ec08-44c1-954d-7ca495baa75b"
      },
      "source": [
        "confusion_matrix(ytest, ypLR)"
      ],
      "execution_count": 25,
      "outputs": [
        {
          "output_type": "execute_result",
          "data": {
            "text/plain": [
              "array([[3, 3],\n",
              "       [0, 9]])"
            ]
          },
          "metadata": {},
          "execution_count": 25
        }
      ]
    },
    {
      "cell_type": "code",
      "metadata": {
        "colab": {
          "base_uri": "https://localhost:8080/"
        },
        "id": "5RYR3kzZIiWL",
        "outputId": "bf25ba5f-6cab-401c-f891-227d6d23616c"
      },
      "source": [
        "tn, fp, fn, tp = confusion_matrix(ytest, ypLR).ravel()\n",
        "tn, fp, fn, tp"
      ],
      "execution_count": 26,
      "outputs": [
        {
          "output_type": "execute_result",
          "data": {
            "text/plain": [
              "(3, 3, 0, 9)"
            ]
          },
          "metadata": {},
          "execution_count": 26
        }
      ]
    },
    {
      "cell_type": "code",
      "metadata": {
        "colab": {
          "base_uri": "https://localhost:8080/"
        },
        "id": "oLhKLdsrIiWM",
        "outputId": "8895a6af-b180-4cb7-daf8-daaa08f840f6"
      },
      "source": [
        "LR.score(Xtrain , ytrain)   \n",
        "#SVM.score(Xtrain , ytrain)   \n",
        "#MLP.score(Xtrain , ytrain)   \n",
        "#DT.score (Xtrain , ytrain)  "
      ],
      "execution_count": 27,
      "outputs": [
        {
          "output_type": "execute_result",
          "data": {
            "text/plain": [
              "0.8857142857142857"
            ]
          },
          "metadata": {},
          "execution_count": 27
        }
      ]
    },
    {
      "cell_type": "code",
      "metadata": {
        "colab": {
          "base_uri": "https://localhost:8080/"
        },
        "id": "ZfpS_oEdIiWN",
        "outputId": "ea87c72d-a01a-4e38-8276-657af3f4d434"
      },
      "source": [
        "LR.score(Xtest , ytest)    #accuracy_score(ytest, ypLR)\n",
        "#MLP.score(Xtest , ytest)  \n",
        "#SVM.score(Xtest , ytest)    \n",
        "#DT.score (Xtest , ytest)   "
      ],
      "execution_count": 28,
      "outputs": [
        {
          "output_type": "execute_result",
          "data": {
            "text/plain": [
              "0.8"
            ]
          },
          "metadata": {},
          "execution_count": 28
        }
      ]
    },
    {
      "cell_type": "code",
      "metadata": {
        "id": "vRZP5ColIiWN"
      },
      "source": [
        "import  numpy  as  np"
      ],
      "execution_count": 29,
      "outputs": []
    },
    {
      "cell_type": "code",
      "metadata": {
        "id": "NXrs-tZBIiWO"
      },
      "source": [
        "from  sklearn.model_selection   import  cross_val_score"
      ],
      "execution_count": 30,
      "outputs": []
    },
    {
      "cell_type": "code",
      "metadata": {
        "colab": {
          "base_uri": "https://localhost:8080/"
        },
        "id": "bMgmgA2RIiWO",
        "outputId": "45a67627-13b7-48c7-cb7f-86cc518c651f"
      },
      "source": [
        "np.mean(cross_val_score(LR , X , y , cv=10))    \n",
        "#np.mean(cross_val_score(MLP , X , y , cv=10))    \n",
        "#np.mean(cross_val_score(DT  , X , y , cv=10))    \n",
        "#np.mean(cross_val_score(SVM , X , y , cv=10)) "
      ],
      "execution_count": 31,
      "outputs": [
        {
          "output_type": "execute_result",
          "data": {
            "text/plain": [
              "0.8800000000000001"
            ]
          },
          "metadata": {},
          "execution_count": 31
        }
      ]
    },
    {
      "cell_type": "code",
      "metadata": {
        "id": "aDW9qzgnIiWP"
      },
      "source": [
        "from  sklearn.metrics  import  roc_curve, auc\n",
        "from  sklearn.model_selection   import  StratifiedKFold\n",
        "from  scipy  import  interp"
      ],
      "execution_count": 32,
      "outputs": []
    },
    {
      "cell_type": "code",
      "metadata": {
        "colab": {
          "base_uri": "https://localhost:8080/",
          "height": 519
        },
        "id": "BtXkxuayIiWP",
        "outputId": "c26b71a6-855f-4ffd-c789-e782d596ad9f"
      },
      "source": [
        "cv = StratifiedKFold(n_splits = 6)\n",
        "\n",
        "tprs = []\n",
        "aucs = []\n",
        "mean_fpr = np.linspace(0, 1, 100)\n",
        "i = 0\n",
        "\n",
        "for train, test in cv.split(X, y):\n",
        "    cf = LR.fit(Xtrain, ytrain)\n",
        "    probas_ = cf.predict_proba(Xtest)\n",
        "    fpr, tpr, thresholds = roc_curve(ytest, probas_[:, 1])\n",
        "    tprs.append(interp(mean_fpr, fpr, tpr))\n",
        "    tprs[-1][0] = 0.0\n",
        "    roc_auc = auc(fpr, tpr)\n",
        "    aucs.append(roc_auc)\n",
        "    i += 1    \n",
        "    \n",
        "            \n",
        "mean_tpr      = np.mean(tprs, axis=0)\n",
        "mean_tpr[-1]  = 1.0\n",
        "mean_auc      = auc(mean_fpr, mean_tpr)\n",
        "std_auc       = np.std(aucs)\n",
        "plt.plot(mean_fpr, mean_tpr, color='cyan',label=r'MLP' ,lw=2, alpha=.8)\n",
        "std_tpr    = np.std(tprs, axis=0)\n",
        "tprs_upper = np.minimum(mean_tpr + std_tpr, 1)\n",
        "tprs_lower = np.maximum(mean_tpr - std_tpr, 0)\n",
        "\n",
        "\n",
        "plt.xlim([-0.05, 1.05])\n",
        "plt.ylim([-0.05, 1.05])\n",
        "\n",
        "plt.xlabel('False Positive Rate')\n",
        "plt.ylabel('True Positive Rate')\n",
        "\n",
        "plt.title('Mean ROC')\n",
        "plt.legend(loc=\"lower right\");\n",
        "\n"
      ],
      "execution_count": 34,
      "outputs": [
        {
          "output_type": "stream",
          "name": "stderr",
          "text": [
            "/usr/local/lib/python3.7/dist-packages/ipykernel_launcher.py:12: DeprecationWarning: scipy.interp is deprecated and will be removed in SciPy 2.0.0, use numpy.interp instead\n",
            "  if sys.path[0] == '':\n",
            "/usr/local/lib/python3.7/dist-packages/ipykernel_launcher.py:12: DeprecationWarning: scipy.interp is deprecated and will be removed in SciPy 2.0.0, use numpy.interp instead\n",
            "  if sys.path[0] == '':\n",
            "/usr/local/lib/python3.7/dist-packages/ipykernel_launcher.py:12: DeprecationWarning: scipy.interp is deprecated and will be removed in SciPy 2.0.0, use numpy.interp instead\n",
            "  if sys.path[0] == '':\n",
            "/usr/local/lib/python3.7/dist-packages/ipykernel_launcher.py:12: DeprecationWarning: scipy.interp is deprecated and will be removed in SciPy 2.0.0, use numpy.interp instead\n",
            "  if sys.path[0] == '':\n",
            "/usr/local/lib/python3.7/dist-packages/ipykernel_launcher.py:12: DeprecationWarning: scipy.interp is deprecated and will be removed in SciPy 2.0.0, use numpy.interp instead\n",
            "  if sys.path[0] == '':\n",
            "/usr/local/lib/python3.7/dist-packages/ipykernel_launcher.py:12: DeprecationWarning: scipy.interp is deprecated and will be removed in SciPy 2.0.0, use numpy.interp instead\n",
            "  if sys.path[0] == '':\n"
          ]
        },
        {
          "output_type": "display_data",
          "data": {
            "image/png": "[encoded data removed]",
            "text/plain": [
              "<Figure size 432x288 with 1 Axes>"
            ]
          },
          "metadata": {
            "needs_background": "light"
          }
        }
      ]
    }
  ]
}