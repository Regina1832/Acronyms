{
  "cells": [
    {
      "cell_type": "markdown",
      "metadata": {
        "id": "view-in-github",
        "colab_type": "text"
      },
      "source": [
        "<a href=\"https://colab.research.google.com/github/Regina1832/Acronyms/blob/A-course-in-ML/AssociationRule.ipynb\" target=\"_parent\"><img src=\"https://colab.research.google.com/assets/colab-badge.svg\" alt=\"Open In Colab\"/></a>"
      ]
    },
    {
      "cell_type": "code",
      "execution_count": 1,
      "metadata": {
        "id": "oKtlr4AOhMgb"
      },
      "outputs": [],
      "source": [
        "import itertools\n",
        "import numpy as np"
      ]
    },
    {
      "cell_type": "code",
      "execution_count": 2,
      "metadata": {
        "id": "UotgPn03hMgl"
      },
      "outputs": [],
      "source": [
        "transactions = 10"
      ]
    },
    {
      "cell_type": "code",
      "execution_count": 3,
      "metadata": {
        "colab": {
          "base_uri": "https://localhost:8080/",
          "height": 87
        },
        "id": "_tNB3kDThMgm",
        "outputId": "5ac3ac14-da6e-4cd6-86ad-78c682eec64e"
      },
      "outputs": [
        {
          "output_type": "execute_result",
          "data": {
            "application/vnd.google.colaboratory.intrinsic+json": {
              "type": "string"
            },
            "text/plain": [
              "\"\\nD=np.array([['laptop', 'mouse'],\\n            ['laptop', 'mouse', 'keyboard'],\\n            ['cellphone', 'headphones' ,'laptop', 'mouse'],\\n            ['headphones','mouse'],\\n            ['laptop','mouse', 'keyboard'],\\n            ['mouse' , 'keyboard'],\\n            ['mouse' , 'keyboard', 'headphones'],\\n            ['table' , 'mouse', 'keyboard'],\\n            ['laptop','table' ],\\n            ['cellphone', 'headphones']])\\n\""
            ]
          },
          "metadata": {},
          "execution_count": 3
        }
      ],
      "source": [
        "'''\n",
        "D=np.array([['laptop', 'mouse'],\n",
        "            ['laptop', 'mouse', 'keyboard'],\n",
        "            ['cellphone', 'headphones' ,'laptop', 'mouse'],\n",
        "            ['headphones','mouse'],\n",
        "            ['laptop','mouse', 'keyboard'],\n",
        "            ['mouse' , 'keyboard'],\n",
        "            ['mouse' , 'keyboard', 'headphones'],\n",
        "            ['table' , 'mouse', 'keyboard'],\n",
        "            ['laptop','table' ],\n",
        "            ['cellphone', 'headphones']])\n",
        "'''"
      ]
    },
    {
      "cell_type": "code",
      "execution_count": 4,
      "metadata": {
        "id": "rJvSAT71hMgp"
      },
      "outputs": [],
      "source": [
        "# candidate 1-itemset\n",
        "\n",
        "#C1=({'laptop': 5 , 'headphones': 5, 'mouse': 8, 'cellphone': 2 , 'keyboard': 4 ,'table': 2})\n",
        "#C1"
      ]
    },
    {
      "cell_type": "code",
      "execution_count": 5,
      "metadata": {
        "colab": {
          "base_uri": "https://localhost:8080/"
        },
        "id": "WhHt2iIEhMgq",
        "outputId": "56bbdbc7-5178-482e-fcc7-7abc4b38e59d"
      },
      "outputs": [
        {
          "output_type": "stream",
          "name": "stderr",
          "text": [
            "/usr/local/lib/python3.7/dist-packages/ipykernel_launcher.py:2: VisibleDeprecationWarning: Creating an ndarray from ragged nested sequences (which is a list-or-tuple of lists-or-tuples-or ndarrays with different lengths or shapes) is deprecated. If you meant to do this, you must specify 'dtype=object' when creating the ndarray.\n",
            "  \n"
          ]
        }
      ],
      "source": [
        "D=np.array([['A','B','E'],['B','D'] , ['B','C'] , ['A','B','D'] , ['A','C'] , \n",
        "            ['B','C'] , ['A','C'], ['A','B','C','E'], ['A','B','C']])"
      ]
    },
    {
      "cell_type": "code",
      "execution_count": 6,
      "metadata": {
        "id": "V1bVpEZchMgr"
      },
      "outputs": [],
      "source": [
        "C1=( {'A': 6 , 'B': 7, 'C': 6, 'D': 2 , 'E': 2 } )"
      ]
    },
    {
      "cell_type": "code",
      "execution_count": 7,
      "metadata": {
        "id": "ts_K8IDHhMgs"
      },
      "outputs": [],
      "source": [
        "support    = 20    \n",
        "#support = int(input(\"Please enter support value in %: \"))"
      ]
    },
    {
      "cell_type": "code",
      "execution_count": 8,
      "metadata": {
        "colab": {
          "base_uri": "https://localhost:8080/"
        },
        "id": "2kCLXdaKhMgt",
        "outputId": "57459ef9-891b-4df5-9036-15e5fe9d9636"
      },
      "outputs": [
        {
          "output_type": "execute_result",
          "data": {
            "text/plain": [
              "[['A'], ['B'], ['C'], ['D'], ['E']]"
            ]
          },
          "metadata": {},
          "execution_count": 8
        }
      ],
      "source": [
        "#Compute frequent 1-itemset\n",
        "L1 = []\n",
        "for key in C1:\n",
        "    if (100 * C1[key] / transactions) >= support:\n",
        "        list = []\n",
        "        list.append(key)\n",
        "        L1.append(list)\n",
        "\n",
        "L1"
      ]
    },
    {
      "cell_type": "code",
      "execution_count": 9,
      "metadata": {
        "id": "zlvR0_MNhMgv"
      },
      "outputs": [],
      "source": [
        "confidence = 70    "
      ]
    },
    {
      "cell_type": "code",
      "execution_count": 10,
      "metadata": {
        "colab": {
          "base_uri": "https://localhost:8080/"
        },
        "id": "rD-h8NVlhMgw",
        "outputId": "e30a847f-52fe-458a-a385-e3474f2cdfca"
      },
      "outputs": [
        {
          "output_type": "stream",
          "name": "stdout",
          "text": [
            "FREQUENT 2-ITEMSET:\n",
            "[['A', 'B'], ['A', 'C'], ['A', 'E'], ['B', 'C'], ['B', 'D'], ['B', 'E']]\n",
            "------------------------------------------------------------------\n",
            "FREQUENT 3-ITEMSET:\n",
            "[['A', 'B', 'C'], ['A', 'B', 'E']]\n",
            "------------------------------------------------------------------\n",
            "FREQUENT 4-ITEMSET:\n",
            "[]\n",
            "------------------------------------------------------------------\n",
            "ASSOCIATION RULES:\n",
            "RULES \t\t\t\t    SUPPORT   CONFIDENCE\n",
            "Rule#  1 : ['E'] ==> ['A'] 22 100\n",
            "Rule#  2 : ['D'] ==> ['B'] 22 100\n",
            "Rule#  3 : ['E'] ==> ['B'] 22 100\n",
            "Rule#  4 : ['E'] ==> ['A', 'B'] 22 100\n",
            "Rule#  5 : ['B', 'E'] ==> ['A'] 22 100\n",
            "Rule#  6 : ['A', 'E'] ==> ['B'] 22 100\n"
          ]
        }
      ],
      "source": [
        "#apriori_gen function to compute candidate k-itemset, (Ck) , using frequent (k-1)-itemset, (Lk_1)\n",
        "def apriori_gen(Lk_1, k):\n",
        "    length = k\n",
        "    Ck = []\n",
        "    for list1 in Lk_1:\n",
        "        for list2 in Lk_1:\n",
        "            count = 0\n",
        "            c = []\n",
        "            if list1 != list2:\n",
        "                while count < length - 1:\n",
        "                    if list1[count] != list2[count]:\n",
        "                        break\n",
        "                    else:\n",
        "                        count += 1\n",
        "                else:\n",
        "                    if list1[length - 1] < list2[length - 1]:\n",
        "                        for item in list1:\n",
        "                            c.append(item)\n",
        "                        c.append(list2[length - 1])\n",
        "                        if not has_infrequent_subset(c, Lk_1, k):\n",
        "                            Ck.append(c)\n",
        "                            c = []\n",
        "    return Ck\n",
        "\n",
        "\n",
        "# function to compute 'm' element subsets of a set S\n",
        "\n",
        "def findsubsets(S, m):\n",
        "    return set(itertools.combinations(S, m))\n",
        "\n",
        "\n",
        "# has_infrequent_subsets function to determine if pruning is required to remove unfruitful candidates (c)\n",
        "# using the Apriori property, with prior knowledge of frequent (k-1)-itemset (Lk_1)\n",
        "\n",
        "def has_infrequent_subset(c, Lk_1, k):\n",
        "    list = []\n",
        "    list = findsubsets(c, k)\n",
        "    for item in list:\n",
        "        s = []\n",
        "        for l in item:\n",
        "            s.append(l)\n",
        "        s.sort()\n",
        "        if s not in Lk_1:\n",
        "            return True\n",
        "    return False\n",
        "\n",
        "# frequent_itemsets function to compute all frequent itemsets\n",
        "\n",
        "def frequent_itemsets():\n",
        "    k = 2\n",
        "    Lk_1 = []\n",
        "    Lk = []\n",
        "    L = []\n",
        "    count = 0\n",
        "    transactions = 0\n",
        "    for item in L1:\n",
        "        Lk_1.append(item)\n",
        "    while Lk_1 != []:\n",
        "        Ck = []\n",
        "        Lk = []\n",
        "        Ck = apriori_gen(Lk_1, k - 1)\n",
        "        #print( \"CANDIDATE %d-ITEMSET:\" % k)\n",
        "        #print( \"Ck: %s\" % Ck)\n",
        "        #print (\"------------------------------------------------------------------\")\n",
        "        for c in Ck:\n",
        "            count = 0\n",
        "            transactions = 0\n",
        "            s = set(c)\n",
        "            for T in D:\n",
        "                transactions += 1\n",
        "                t = set(T)\n",
        "                if s.issubset(t) == True:\n",
        "                    count += 1\n",
        "            if (100 * count / transactions) >= support:\n",
        "                c.sort()\n",
        "                Lk.append(c)\n",
        "        Lk_1 = []\n",
        "        print(\"FREQUENT %d-ITEMSET:\" % k)\n",
        "        print(Lk)\n",
        "        print(\"------------------------------------------------------------------\")\n",
        "        for l in Lk:\n",
        "            Lk_1.append(l)\n",
        "        k += 1\n",
        "        if Lk != []:\n",
        "            L.append(Lk)\n",
        "\n",
        "    return L\n",
        "# generate_association_rules function to mine and print all the association rules with\n",
        "# given support and confidence value\n",
        "\n",
        "def generate_association_rules():\n",
        "    s = []\n",
        "    r = []\n",
        "    length = 0\n",
        "    count = 1\n",
        "    inc1 = 0\n",
        "    inc2 = 0\n",
        "    num = 1\n",
        "    m = []\n",
        "    L = frequent_itemsets()\n",
        "    print(\"ASSOCIATION RULES:\")\n",
        "    print(\"RULES \\t\\t\\t\\t    SUPPORT   CONFIDENCE\")\n",
        "    for list in L:\n",
        "        for l in list:\n",
        "            length = len(l)\n",
        "            count = 1\n",
        "            while count < length:\n",
        "                s = []\n",
        "                r =  findsubsets(l, count)\n",
        "                count += 1\n",
        "                for item in r:\n",
        "                    inc1 = 0\n",
        "                    inc2 = 0\n",
        "                    s = []\n",
        "                    m = []\n",
        "                    for i in item:\n",
        "                        s.append(i)\n",
        "                    for T in D:\n",
        "                        if set(s).issubset(set(T)) == True:\n",
        "                            inc1 += 1\n",
        "                        if set(l).issubset(set(T)) == True:\n",
        "                            inc2 += 1\n",
        "                    if 100 * inc2 / inc1 >= confidence:\n",
        "                        for index in l:\n",
        "                            if index not in s:\n",
        "                                m.append(index)\n",
        "                        print(\"Rule#  %d : %s ==> %s %d %d\" % (num, s, m, 100 * inc2 / len(D), 100 * inc2 / inc1))\n",
        "                        num += 1\n",
        "generate_association_rules()"
      ]
    }
  ],
  "metadata": {
    "kernelspec": {
      "display_name": "Python 3",
      "language": "python",
      "name": "python3"
    },
    "language_info": {
      "codemirror_mode": {
        "name": "ipython",
        "version": 3
      },
      "file_extension": ".py",
      "mimetype": "text/x-python",
      "name": "python",
      "nbconvert_exporter": "python",
      "pygments_lexer": "ipython3",
      "version": "3.7.1"
    },
    "colab": {
      "name": "AssociationRule.ipynb",
      "provenance": [],
      "include_colab_link": true
    }
  },
  "nbformat": 4,
  "nbformat_minor": 0
}