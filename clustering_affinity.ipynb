{
  "cells": [
    {
      "cell_type": "markdown",
      "metadata": {
        "id": "view-in-github",
        "colab_type": "text"
      },
      "source": [
        "<a href=\"https://colab.research.google.com/github/Regina1832/Acronyms/blob/A-course-in-ML/clustering_affinity.ipynb\" target=\"_parent\"><img src=\"https://colab.research.google.com/assets/colab-badge.svg\" alt=\"Open In Colab\"/></a>"
      ]
    },
    {
      "cell_type": "code",
      "execution_count": 1,
      "metadata": {
        "id": "xm4Uco6_rO_j"
      },
      "outputs": [],
      "source": [
        "import matplotlib.pyplot as plt  \n",
        "import pandas as pd  \n",
        "%matplotlib inline\n",
        "import numpy as np\n",
        "from sklearn.cluster import AgglomerativeClustering"
      ]
    },
    {
      "cell_type": "code",
      "execution_count": 2,
      "metadata": {
        "id": "UeaxuIzRrO_r"
      },
      "outputs": [],
      "source": [
        "X = np.array([  [10,5],  \n",
        "                [20,2],\n",
        "                [30,3],\n",
        "                [70,4],\n",
        "                [80,2],\n",
        "                [90,6],\n",
        "                [100,3],\n",
        "             ])"
      ]
    },
    {
      "cell_type": "code",
      "execution_count": 3,
      "metadata": {
        "id": "RW69Da5erO_s"
      },
      "outputs": [],
      "source": [
        " cluster = AgglomerativeClustering(n_clusters=2, affinity='euclidean', linkage='ward')  \n",
        "#cluster = AgglomerativeClustering(n_clusters=2, affinity='euclidean', linkage='single')  \n",
        "#cluster = AgglomerativeClustering(n_clusters=2, affinity='euclidean', linkage='average')  \n",
        "#cluster = AgglomerativeClustering(n_clusters=2, affinity='euclidean', linkage='complete')  "
      ]
    },
    {
      "cell_type": "code",
      "execution_count": null,
      "metadata": {
        "id": "_Ni25mFmrO_t"
      },
      "outputs": [],
      "source": [
        "# Ward can only work with euclidean distances."
      ]
    },
    {
      "cell_type": "code",
      "execution_count": null,
      "metadata": {
        "id": "DDy8w2_yrO_u"
      },
      "outputs": [],
      "source": [
        "#cluster = AgglomerativeClustering(n_clusters=2, affinity='manhattan', linkage='single')  \n",
        "#cluster = AgglomerativeClustering(n_clusters=2, affinity='manhattan', linkage='average')  \n",
        "#cluster = AgglomerativeClustering(n_clusters=2, affinity='manhattan', linkage='average')  "
      ]
    },
    {
      "cell_type": "code",
      "execution_count": 4,
      "metadata": {
        "id": "rIwI6U6crO_w"
      },
      "outputs": [],
      "source": [
        "cluster.fit_predict(X);  "
      ]
    },
    {
      "cell_type": "code",
      "execution_count": 5,
      "metadata": {
        "colab": {
          "base_uri": "https://localhost:8080/"
        },
        "id": "FViqqijtrO_y",
        "outputId": "02cfba41-90e1-47bd-ec81-b816e399b724"
      },
      "outputs": [
        {
          "output_type": "execute_result",
          "data": {
            "text/plain": [
              "array([1, 1, 1, 0, 0, 0, 0])"
            ]
          },
          "metadata": {},
          "execution_count": 5
        }
      ],
      "source": [
        "cluster.labels_"
      ]
    },
    {
      "cell_type": "code",
      "execution_count": 6,
      "metadata": {
        "colab": {
          "base_uri": "https://localhost:8080/",
          "height": 265
        },
        "id": "JFrWZ5KdrO_z",
        "outputId": "c2a772a1-a7c3-4281-ada5-1dd6f98f46cf"
      },
      "outputs": [
        {
          "output_type": "display_data",
          "data": {
            "image/png": "[encoded data removed]",
            "text/plain": [
              "<Figure size 432x288 with 1 Axes>"
            ]
          },
          "metadata": {
            "needs_background": "light"
          }
        }
      ],
      "source": [
        "plt.scatter(X[:,0],X[:,1], c=cluster.labels_, cmap='rainbow') ; "
      ]
    },
    {
      "cell_type": "code",
      "execution_count": null,
      "metadata": {
        "id": "acOMIhMHrO_1"
      },
      "outputs": [],
      "source": [
        ""
      ]
    },
    {
      "cell_type": "markdown",
      "metadata": {
        "id": "pR24VauerO_2"
      },
      "source": [
        "affinity : \n",
        "    string or callable, default: “euclidean”\n",
        "    Metric used to compute the linkage. \n",
        "    Can be “euclidean”, “l1”, “l2”, “manhattan”, “cosine”, or “precomputed”. \n",
        "    If linkage is “ward”, only “euclidean” is accepted. \n",
        "    If “precomputed”, a distance matrix (instead of a similarity matrix) is needed as input \n",
        "    for the fit method."
      ]
    },
    {
      "cell_type": "markdown",
      "metadata": {
        "id": "zWhsJ1B5rO_7"
      },
      "source": [
        "inkage : \n",
        "    {“ward”, “complete”, “single”, “average”}, optional (default=”ward”)\n",
        "    The linkage criterion determines which distance to use between sets of observation. \n",
        "    The algorithm will merge the pairs of cluster that minimize this criterion.\n",
        "    ward minimizes the variance of the clusters being merged.\n",
        "    complete or maximum linkage uses the maximum distances between all observations of the two sets.\n",
        "    single uses the minimum of the distances between all observations of the two sets.\n",
        "    average uses the average of the distances of each observation of the two sets.\n"
      ]
    }
  ],
  "metadata": {
    "kernelspec": {
      "display_name": "Python 3",
      "language": "python",
      "name": "python3"
    },
    "language_info": {
      "codemirror_mode": {
        "name": "ipython",
        "version": 3
      },
      "file_extension": ".py",
      "mimetype": "text/x-python",
      "name": "python",
      "nbconvert_exporter": "python",
      "pygments_lexer": "ipython3",
      "version": "3.7.1"
    },
    "colab": {
      "name": "clustering_affinity.ipynb",
      "provenance": [],
      "include_colab_link": true
    }
  },
  "nbformat": 4,
  "nbformat_minor": 0
}