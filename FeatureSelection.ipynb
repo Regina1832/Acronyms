{
  "cells": [
    {
      "cell_type": "markdown",
      "metadata": {
        "id": "view-in-github",
        "colab_type": "text"
      },
      "source": [
        "<a href=\"https://colab.research.google.com/github/Regina1832/Acronyms/blob/A-course-in-ML/FeatureSelection.ipynb\" target=\"_parent\"><img src=\"https://colab.research.google.com/assets/colab-badge.svg\" alt=\"Open In Colab\"/></a>"
      ]
    },
    {
      "cell_type": "markdown",
      "metadata": {
        "id": "bRO5x2KBlxqT"
      },
      "source": [
        "### VarianceThreshold\n",
        "VarianceThreshold is a simple baseline approach to feature selection.\n",
        "It removes all features whose variance doesn’t meet some threshold. \n",
        "By default, it removes all zero-variance features, i.e. features that have the same value in all samples.\n",
        "\n",
        "As an example, suppose that we have a dataset with boolean features, and we want to remove all features that are either one or zero (on or off) in more than 80% of the samples. \n",
        "Boolean features are Bernoulli random variables, and the variance of such variables is given by\n",
        "so we can select using the threshold .8 * (1 - .8):  var = p(1-p)"
      ]
    },
    {
      "cell_type": "code",
      "execution_count": 3,
      "metadata": {
        "id": "NT8JR0gXlxql"
      },
      "outputs": [],
      "source": [
        "from sklearn.feature_selection import VarianceThreshold"
      ]
    },
    {
      "cell_type": "code",
      "execution_count": 1,
      "metadata": {
        "id": "CyJ9kerYlxqp"
      },
      "outputs": [],
      "source": [
        "X = [[0, 0, 1], [0, 1, 1], [1, 0, 1], [0, 1, 1], [0, 1, 1], [0, 1, 1]];"
      ]
    },
    {
      "cell_type": "markdown",
      "metadata": {
        "id": "fQaoLbs_lxqr"
      },
      "source": [
        "feature :\n",
        "         x1: [0], [0], [1], [0], [0], [0]  most zero    p=5/6 > 0.8\n",
        "         x2: [0], [1], [0], [1], [1], [1]   \n",
        "         x3: [1], [1], [1], [1], [1], [1]  all one"
      ]
    },
    {
      "cell_type": "code",
      "execution_count": 4,
      "metadata": {
        "id": "DSIkX6bglxqt"
      },
      "outputs": [],
      "source": [
        "t = .8 * (1 - .8)\n",
        "sel = VarianceThreshold(threshold = t)"
      ]
    },
    {
      "cell_type": "code",
      "execution_count": 5,
      "metadata": {
        "colab": {
          "base_uri": "https://localhost:8080/"
        },
        "id": "-ktO4eNWlxqv",
        "outputId": "d33ec077-d24d-467e-f8b0-9d83e4c6ce56"
      },
      "outputs": [
        {
          "output_type": "execute_result",
          "data": {
            "text/plain": [
              "array([[0],\n",
              "       [1],\n",
              "       [0],\n",
              "       [1],\n",
              "       [1],\n",
              "       [1]])"
            ]
          },
          "metadata": {},
          "execution_count": 5
        }
      ],
      "source": [
        "sel.fit_transform(X)    "
      ]
    },
    {
      "cell_type": "markdown",
      "metadata": {
        "id": "VFTyVqkElxqy"
      },
      "source": [
        "## Univariate feature selection"
      ]
    },
    {
      "cell_type": "markdown",
      "metadata": {
        "id": "lE8NooaLlxq0"
      },
      "source": [
        "Univariate feature selection works by selecting the best features based on univariate statistical tests. It can be seen as a preprocessing step to an estimator.\n",
        "SelectKBest removes all but the  highest scoring features."
      ]
    },
    {
      "cell_type": "code",
      "execution_count": 6,
      "metadata": {
        "id": "_gpRegR5lxq2"
      },
      "outputs": [],
      "source": [
        "from sklearn.datasets import load_iris\n",
        "from sklearn.feature_selection import SelectKBest\n",
        "from sklearn.feature_selection import chi2"
      ]
    },
    {
      "cell_type": "code",
      "execution_count": 7,
      "metadata": {
        "id": "bMayb2cRlxq5"
      },
      "outputs": [],
      "source": [
        "iris = load_iris()\n",
        "X = iris.data\n",
        "y = iris.target"
      ]
    },
    {
      "cell_type": "code",
      "execution_count": 10,
      "metadata": {
        "id": "yF2HTVmBlxq7"
      },
      "outputs": [],
      "source": [
        "s = SelectKBest(chi2, k=3 )"
      ]
    },
    {
      "cell_type": "markdown",
      "source": [
        "کا تعداد ستون ها"
      ],
      "metadata": {
        "id": "buOxjoDFpu-1"
      }
    },
    {
      "cell_type": "markdown",
      "source": [
        ""
      ],
      "metadata": {
        "id": "ud29P7vipbka"
      }
    },
    {
      "cell_type": "markdown",
      "metadata": {
        "id": "lcg_LUHvlxq-"
      },
      "source": [
        "## L1-based feature selection"
      ]
    },
    {
      "cell_type": "code",
      "execution_count": 12,
      "metadata": {
        "id": "2ttmHoTNlxrA"
      },
      "outputs": [],
      "source": [
        "from sklearn.svm import LinearSVC\n",
        "from sklearn.feature_selection import SelectFromModel"
      ]
    },
    {
      "cell_type": "code",
      "execution_count": 13,
      "metadata": {
        "colab": {
          "base_uri": "https://localhost:8080/"
        },
        "id": "5Y7RbqdilxrB",
        "outputId": "7341dabd-8731-44e9-febc-a173aa549c41"
      },
      "outputs": [
        {
          "output_type": "stream",
          "name": "stderr",
          "text": [
            "/usr/local/lib/python3.7/dist-packages/sklearn/svm/_base.py:1208: ConvergenceWarning: Liblinear failed to converge, increase the number of iterations.\n",
            "  ConvergenceWarning,\n"
          ]
        }
      ],
      "source": [
        "m = LinearSVC(C=0.01, penalty=\"l1\", dual=False)  # the smaller C the fewer features selected\n",
        "clf = m.fit(X, y);"
      ]
    },
    {
      "cell_type": "code",
      "execution_count": 14,
      "metadata": {
        "id": "5e7Fl0gBlxrC"
      },
      "outputs": [],
      "source": [
        "s = SelectFromModel(clf, prefit=True)"
      ]
    },
    {
      "cell_type": "code",
      "execution_count": 15,
      "metadata": {
        "colab": {
          "base_uri": "https://localhost:8080/"
        },
        "id": "OPhlsxxhlxrE",
        "outputId": "aab78cdf-0415-45bd-a250-72fe9f6291f7"
      },
      "outputs": [
        {
          "output_type": "execute_result",
          "data": {
            "text/plain": [
              "(150, 3)"
            ]
          },
          "metadata": {},
          "execution_count": 15
        }
      ],
      "source": [
        "Xnew = s.transform(X)\n",
        "Xnew.shape"
      ]
    },
    {
      "cell_type": "markdown",
      "metadata": {
        "id": "g6Dvv1wdlxrF"
      },
      "source": [
        "## Tree-based feature selection"
      ]
    },
    {
      "cell_type": "code",
      "execution_count": 16,
      "metadata": {
        "id": "GKi6-xt1lxrG"
      },
      "outputs": [],
      "source": [
        "from sklearn.ensemble import ExtraTreesClassifier\n",
        "from sklearn.feature_selection import SelectFromModel"
      ]
    },
    {
      "cell_type": "code",
      "execution_count": 17,
      "metadata": {
        "id": "72jz4OtPlxrH"
      },
      "outputs": [],
      "source": [
        "clf = ExtraTreesClassifier(n_estimators = 50)\n",
        "clf = clf.fit(X, y)"
      ]
    },
    {
      "cell_type": "code",
      "execution_count": 18,
      "metadata": {
        "colab": {
          "base_uri": "https://localhost:8080/"
        },
        "id": "KvaO2zftlxrI",
        "outputId": "c2fa57af-b8cb-40d5-c475-0797cb77a102"
      },
      "outputs": [
        {
          "output_type": "execute_result",
          "data": {
            "text/plain": [
              "array([0.07555521, 0.06569641, 0.38918415, 0.46956423])"
            ]
          },
          "metadata": {},
          "execution_count": 18
        }
      ],
      "source": [
        "clf.feature_importances_  "
      ]
    },
    {
      "cell_type": "code",
      "execution_count": 19,
      "metadata": {
        "colab": {
          "base_uri": "https://localhost:8080/"
        },
        "id": "Qz-4P3NglxrJ",
        "outputId": "234343bd-0f86-4c52-aacc-5b8fdd8f3513"
      },
      "outputs": [
        {
          "output_type": "execute_result",
          "data": {
            "text/plain": [
              "(150, 2)"
            ]
          },
          "metadata": {},
          "execution_count": 19
        }
      ],
      "source": [
        "model = SelectFromModel(clf, prefit=True)\n",
        "Xnew = model.transform(X)\n",
        "Xnew.shape"
      ]
    },
    {
      "cell_type": "code",
      "execution_count": 20,
      "metadata": {
        "colab": {
          "base_uri": "https://localhost:8080/"
        },
        "id": "AS4ZK7OKlxrK",
        "outputId": "3c4b7b38-abfa-477a-d89e-919754cecd3b"
      },
      "outputs": [
        {
          "output_type": "execute_result",
          "data": {
            "text/plain": [
              "(150, 2)"
            ]
          },
          "metadata": {},
          "execution_count": 20
        }
      ],
      "source": [
        "Xnew.shape "
      ]
    }
  ],
  "metadata": {
    "kernelspec": {
      "display_name": "Python 3",
      "language": "python",
      "name": "python3"
    },
    "language_info": {
      "codemirror_mode": {
        "name": "ipython",
        "version": 3
      },
      "file_extension": ".py",
      "mimetype": "text/x-python",
      "name": "python",
      "nbconvert_exporter": "python",
      "pygments_lexer": "ipython3",
      "version": "3.7.1"
    },
    "colab": {
      "name": "FeatureSelection.ipynb",
      "provenance": [],
      "include_colab_link": true
    }
  },
  "nbformat": 4,
  "nbformat_minor": 0
}