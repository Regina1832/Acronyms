{
  "cells": [
    {
      "cell_type": "markdown",
      "metadata": {
        "id": "view-in-github",
        "colab_type": "text"
      },
      "source": [
        "<a href=\"https://colab.research.google.com/github/Regina1832/Acronyms/blob/A-course-in-ML/PCA_2.ipynb\" target=\"_parent\"><img src=\"https://colab.research.google.com/assets/colab-badge.svg\" alt=\"Open In Colab\"/></a>"
      ]
    },
    {
      "cell_type": "code",
      "execution_count": 1,
      "metadata": {
        "id": "FDBe2ackJYis"
      },
      "outputs": [],
      "source": [
        "from sklearn.decomposition import PCA\n",
        "import numpy as np\n",
        "import matplotlib.pyplot as plt"
      ]
    },
    {
      "cell_type": "code",
      "execution_count": 2,
      "metadata": {
        "colab": {
          "base_uri": "https://localhost:8080/"
        },
        "id": "nJU6Sh81JYiw",
        "outputId": "36a86148-912b-4858-870f-cb794c5f9f8c"
      },
      "outputs": [
        {
          "output_type": "execute_result",
          "data": {
            "text/plain": [
              "array([[4.17022005e-01, 7.20324493e-01],\n",
              "       [1.14374817e-04, 3.02332573e-01]])"
            ]
          },
          "metadata": {},
          "execution_count": 2
        }
      ],
      "source": [
        "rng = np.random.RandomState(1)\n",
        "a = rng.rand(2, 2)\n",
        "a"
      ]
    },
    {
      "cell_type": "code",
      "execution_count": 3,
      "metadata": {
        "id": "GyKIqN70JYiy"
      },
      "outputs": [],
      "source": [
        "b = rng.randn(2, 200)"
      ]
    },
    {
      "cell_type": "code",
      "execution_count": 4,
      "metadata": {
        "colab": {
          "base_uri": "https://localhost:8080/"
        },
        "id": "AUC-SzZlJYiz",
        "outputId": "362ed37f-5547-4bf0-8176-568ec0ea905e"
      },
      "outputs": [
        {
          "output_type": "execute_result",
          "data": {
            "text/plain": [
              "(200, 2)"
            ]
          },
          "metadata": {},
          "execution_count": 4
        }
      ],
      "source": [
        "X = np.dot(a, b).T\n",
        "X.shape"
      ]
    },
    {
      "cell_type": "code",
      "execution_count": 5,
      "metadata": {
        "id": "J0q_V9z6JYi0"
      },
      "outputs": [],
      "source": [
        "pca = PCA(n_components=2)\n",
        "pca.fit(X)\n",
        "X_pca = pca.transform(X)"
      ]
    },
    {
      "cell_type": "code",
      "execution_count": 6,
      "metadata": {
        "colab": {
          "base_uri": "https://localhost:8080/",
          "height": 350
        },
        "id": "lzLn9-qRJYi1",
        "outputId": "2d4c6798-2d17-4097-f71a-4ad8b2c84334"
      },
      "outputs": [
        {
          "output_type": "display_data",
          "data": {
            "image/png": "[encoded data removed]",
            "text/plain": [
              "<Figure size 864x360 with 2 Axes>"
            ]
          },
          "metadata": {
            "needs_background": "light"
          }
        }
      ],
      "source": [
        "fig, ax = plt.subplots(1, 2, figsize=(12, 5))\n",
        "\n",
        "fig.subplots_adjust(left=0.06, right=0.9, wspace=0.1)\n",
        "\n",
        "ax[0].scatter(X[:, 0], X[:, 1],c='g');\n",
        "\n",
        "for length, vector in zip(pca.explained_variance_,pca.components_   ):\n",
        "    v = vector * 3 * np.sqrt(length)\n",
        "    ax[0].annotate('', pca.mean_+v , pca.mean_ , arrowprops = dict(arrowstyle='->',linewidth=2))\n",
        "    \n",
        "    \n",
        "ax[0].axis('equal');\n",
        "ax[0].set(xlabel='x', ylabel='y', title='input')\n",
        "\n",
        "\n",
        "# plot principal components\n",
        "ax[1].scatter(X_pca[:, 0], X_pca[:, 1],c='r')\n",
        "\n",
        "ax[1].annotate('', [0, 3], [0, 0], arrowprops = dict(arrowstyle='->', linewidth=2))\n",
        "ax[1].annotate('', [3, 0], [0, 0], arrowprops = dict(arrowstyle='->', linewidth=2))\n",
        "\n",
        "ax[1].axis('equal')\n",
        "ax[1].set(xlabel='pc 1', ylabel='pc 2', title='principal components', xlim=(-5, 5), ylim=(-3, 3));\n"
      ]
    },
    {
      "cell_type": "code",
      "execution_count": 7,
      "metadata": {
        "colab": {
          "base_uri": "https://localhost:8080/"
        },
        "id": "FOGYV7UEJYi2",
        "outputId": "5e4297be-b9e1-4b6a-d2f6-c21347528fe4"
      },
      "outputs": [
        {
          "output_type": "execute_result",
          "data": {
            "text/plain": [
              "array([0.7625315, 0.0184779])"
            ]
          },
          "metadata": {},
          "execution_count": 7
        }
      ],
      "source": [
        "pca.explained_variance_       "
      ]
    },
    {
      "cell_type": "code",
      "execution_count": null,
      "metadata": {
        "id": "L_7putgqJYi2",
        "outputId": "ebed2a8b-3531-4b1f-8721-19255a308aae"
      },
      "outputs": [
        {
          "data": {
            "text/plain": [
              "array([[-0.94446029, -0.32862557],\n",
              "       [-0.32862557,  0.94446029]])"
            ]
          },
          "execution_count": 11,
          "metadata": {},
          "output_type": "execute_result"
        }
      ],
      "source": [
        "pca.components_                                   "
      ]
    },
    {
      "cell_type": "code",
      "execution_count": null,
      "metadata": {
        "id": "9xHwlu3HJYi3"
      },
      "outputs": [],
      "source": [
        ""
      ]
    }
  ],
  "metadata": {
    "kernelspec": {
      "display_name": "Python 3",
      "language": "python",
      "name": "python3"
    },
    "language_info": {
      "codemirror_mode": {
        "name": "ipython",
        "version": 3
      },
      "file_extension": ".py",
      "mimetype": "text/x-python",
      "name": "python",
      "nbconvert_exporter": "python",
      "pygments_lexer": "ipython3",
      "version": "3.7.1"
    },
    "colab": {
      "name": "PCA_2.ipynb",
      "provenance": [],
      "include_colab_link": true
    }
  },
  "nbformat": 4,
  "nbformat_minor": 0
}