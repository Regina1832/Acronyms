{
  "nbformat": 4,
  "nbformat_minor": 0,
  "metadata": {
    "kernelspec": {
      "display_name": "Python 3",
      "language": "python",
      "name": "python3"
    },
    "language_info": {
      "codemirror_mode": {
        "name": "ipython",
        "version": 3
      },
      "file_extension": ".py",
      "mimetype": "text/x-python",
      "name": "python",
      "nbconvert_exporter": "python",
      "pygments_lexer": "ipython3",
      "version": "3.7.1"
    },
    "colab": {
      "name": "SVM-1.ipynb",
      "provenance": [],
      "include_colab_link": true
    }
  },
  "cells": [
    {
      "cell_type": "markdown",
      "metadata": {
        "id": "view-in-github",
        "colab_type": "text"
      },
      "source": [
        "<a href=\"https://colab.research.google.com/github/Regina1832/Acronyms/blob/main/SVM_1.ipynb\" target=\"_parent\"><img src=\"https://colab.research.google.com/assets/colab-badge.svg\" alt=\"Open In Colab\"/></a>"
      ]
    },
    {
      "cell_type": "markdown",
      "metadata": {
        "id": "FG7qlCP_gtD1"
      },
      "source": [
        "The advantages of support vector machines are:\n",
        "\n",
        "1- Effective in high dimensional spaces.\n",
        "\n",
        "2- Still effective in cases where number of dimensions is greater than the number of samples.\n",
        "\n",
        "3- Uses a subset of training points in the decision function (called support vectors), so it is also memory efficient.\n",
        "\n",
        "4-Versatile: different Kernel functions can be specified for the decision function. Common kernels are provided, but it is also possible to specify custom kernels."
      ]
    },
    {
      "cell_type": "code",
      "metadata": {
        "id": "G7MXSzJ6gtEE"
      },
      "source": [
        "from sklearn.svm import SVC\n",
        "import numpy as np"
      ],
      "execution_count": 1,
      "outputs": []
    },
    {
      "cell_type": "code",
      "metadata": {
        "id": "F5hLQMv5gtEI"
      },
      "source": [
        "X = np.array([[0, 0],[1,1]])\n",
        "y = np.array([-1,1])"
      ],
      "execution_count": 2,
      "outputs": []
    },
    {
      "cell_type": "code",
      "metadata": {
        "id": "OG7vNndPgtEJ"
      },
      "source": [
        "clf = SVC()"
      ],
      "execution_count": 3,
      "outputs": []
    },
    {
      "cell_type": "code",
      "metadata": {
        "id": "HtJ5QAwmgtEK"
      },
      "source": [
        "%%capture\n",
        "clf.fit(X,y);"
      ],
      "execution_count": 5,
      "outputs": []
    },
    {
      "cell_type": "code",
      "metadata": {
        "colab": {
          "base_uri": "https://localhost:8080/"
        },
        "id": "5l0dSXabgtEM",
        "outputId": "cb9e8a82-4026-439c-a7ce-1ee230f2fdd3"
      },
      "source": [
        "test=[-0.7, -1]\n",
        "clf.predict([test])"
      ],
      "execution_count": 6,
      "outputs": [
        {
          "output_type": "execute_result",
          "data": {
            "text/plain": [
              "array([-1])"
            ]
          },
          "metadata": {},
          "execution_count": 6
        }
      ]
    },
    {
      "cell_type": "code",
      "metadata": {
        "colab": {
          "base_uri": "https://localhost:8080/"
        },
        "id": "PYUPbGTFgtEO",
        "outputId": "71416401-583b-452f-af7c-a347eb5054be"
      },
      "source": [
        "clf.support_vectors_"
      ],
      "execution_count": 7,
      "outputs": [
        {
          "output_type": "execute_result",
          "data": {
            "text/plain": [
              "array([[0., 0.],\n",
              "       [1., 1.]])"
            ]
          },
          "metadata": {},
          "execution_count": 7
        }
      ]
    },
    {
      "cell_type": "code",
      "metadata": {
        "colab": {
          "base_uri": "https://localhost:8080/"
        },
        "id": "GrilpoSWgtEQ",
        "outputId": "b123e5ca-ea7d-424a-fa29-90c40e76a1bb"
      },
      "source": [
        " # get indices of support vectors\n",
        "clf.support_"
      ],
      "execution_count": 8,
      "outputs": [
        {
          "output_type": "execute_result",
          "data": {
            "text/plain": [
              "array([0, 1], dtype=int32)"
            ]
          },
          "metadata": {},
          "execution_count": 8
        }
      ]
    },
    {
      "cell_type": "code",
      "metadata": {
        "colab": {
          "base_uri": "https://localhost:8080/"
        },
        "id": "g26vZ4hPgtES",
        "outputId": "4dd00f55-e5bf-42f9-edad-96c4e3d8323d"
      },
      "source": [
        "# get number of support vectors for each class\n",
        "clf.n_support_ "
      ],
      "execution_count": 9,
      "outputs": [
        {
          "output_type": "execute_result",
          "data": {
            "text/plain": [
              "array([1, 1], dtype=int32)"
            ]
          },
          "metadata": {},
          "execution_count": 9
        }
      ]
    },
    {
      "cell_type": "code",
      "metadata": {
        "id": "XxrYAiyxgtEW"
      },
      "source": [
        ""
      ],
      "execution_count": null,
      "outputs": []
    }
  ]
}