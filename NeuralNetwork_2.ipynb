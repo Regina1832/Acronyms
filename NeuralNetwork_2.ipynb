{
  "nbformat": 4,
  "nbformat_minor": 0,
  "metadata": {
    "kernelspec": {
      "display_name": "Python 3",
      "language": "python",
      "name": "python3"
    },
    "language_info": {
      "codemirror_mode": {
        "name": "ipython",
        "version": 3
      },
      "file_extension": ".py",
      "mimetype": "text/x-python",
      "name": "python",
      "nbconvert_exporter": "python",
      "pygments_lexer": "ipython3",
      "version": "3.7.1"
    },
    "colab": {
      "name": "NeuralNetwork_2.ipynb",
      "provenance": [],
      "include_colab_link": true
    }
  },
  "cells": [
    {
      "cell_type": "markdown",
      "metadata": {
        "id": "view-in-github",
        "colab_type": "text"
      },
      "source": [
        "<a href=\"https://colab.research.google.com/github/Regina1832/Acronyms/blob/main/NeuralNetwork_2.ipynb\" target=\"_parent\"><img src=\"https://colab.research.google.com/assets/colab-badge.svg\" alt=\"Open In Colab\"/></a>"
      ]
    },
    {
      "cell_type": "code",
      "metadata": {
        "id": "25bNGUHMbh2W"
      },
      "source": [
        "import numpy as np \n",
        "import math"
      ],
      "execution_count": 1,
      "outputs": []
    },
    {
      "cell_type": "code",
      "metadata": {
        "id": "mlm_UPVabh2f"
      },
      "source": [
        "def relu(X):\n",
        "    return np.maximum(X, 0)"
      ],
      "execution_count": 2,
      "outputs": []
    },
    {
      "cell_type": "code",
      "metadata": {
        "id": "ZquBr7gkbh2g"
      },
      "source": [
        "def build_model(X , hidden_nodes , output_dim=2):\n",
        "    model = {} \n",
        "    input_dim = X.shape[1]\n",
        "    \n",
        "    model['W1'] = np.random.randn(input_dim, hidden_nodes) / np.sqrt(input_dim)\n",
        "    model['b1'] = np.zeros((1, hidden_nodes))\n",
        "    model['W2'] = np.random.randn(hidden_nodes, output_dim) / np.sqrt(hidden_nodes)\n",
        "    model['b2'] = np.zeros((1, output_dim))\n",
        "    \n",
        "    return model"
      ],
      "execution_count": 3,
      "outputs": []
    },
    {
      "cell_type": "code",
      "metadata": {
        "id": "FX67gL2Pbh2i"
      },
      "source": [
        "def feed_forward(model, x):\n",
        "    W1, b1, W2, b2 = model['W1'], model['b1'], model['W2'], model['b2']\n",
        "    z1 = x.dot(W1) + b1\n",
        "    a1 = relu(z1)\n",
        "    z2 = a1.dot(W2) + b2\n",
        "    exp_scores = np.exp(z2)\n",
        "    out = exp_scores / np.sum(exp_scores, axis=1, keepdims=True)\n",
        "    return z1, a1, z2, out"
      ],
      "execution_count": 4,
      "outputs": []
    },
    {
      "cell_type": "code",
      "metadata": {
        "id": "MMJTwOvPbh2j"
      },
      "source": [
        "def calculate_loss(model,X,y,reg_lambda):\n",
        "    num_examples = X.shape[0]\n",
        "    W1, b1, W2, b2 = model['W1'], model['b1'], model['W2'], model['b2']\n",
        "    \n",
        "    z1, a1, z2, out = feed_forward(model, X)\n",
        "    probs = out / np.sum(out, axis=1, keepdims=True)\n",
        "    \n",
        "    corect_logprobs = -np.log(probs[range(num_examples), y])\n",
        "    loss = np.sum(corect_logprobs)\n",
        "    \n",
        "    # Add regulatization term to loss (optional)\n",
        "    loss = loss + reg_lambda/2 * (np.sum(np.square(W1)) + np.sum(np.square(W2)))\n",
        "    return 1./num_examples * loss"
      ],
      "execution_count": 5,
      "outputs": []
    },
    {
      "cell_type": "code",
      "metadata": {
        "id": "gROxB6Uzbh2k"
      },
      "source": [
        "def relu_derivative(X):\n",
        "    return 1. * (X > 0)"
      ],
      "execution_count": 6,
      "outputs": []
    },
    {
      "cell_type": "code",
      "metadata": {
        "id": "fERN8uAybh2k"
      },
      "source": [
        "def backprop(X,y,model,z1,a1,z2,output,reg_lambda):\n",
        "    delta3 = output\n",
        "    delta3[range(X.shape[0]), y] -= 1      #yhat - y\n",
        "    dW2 = (a1.T).dot(delta3)\n",
        "    db2 = np.sum(delta3, axis=0, keepdims=True)\n",
        "    \n",
        "    delta2 = delta3.dot(model['W2'].T) * relu_derivative(a1) \n",
        "    dW1 = np.dot(X.T, delta2)\n",
        "    db1 = np.sum(delta2, axis=0)\n",
        "   \n",
        "    # Add regularization terms\n",
        "    dW2 = dW2 + reg_lambda * model['W2']\n",
        "    dW1 = dW1 + reg_lambda * model['W1']\n",
        "    return dW1, dW2, db1, db2"
      ],
      "execution_count": 7,
      "outputs": []
    },
    {
      "cell_type": "code",
      "metadata": {
        "id": "Xuibp2Ycbh2l"
      },
      "source": [
        "def train(model, X, y, num_passes=10000, reg_lambda = .1, learning_rate=0.1):\n",
        "    # Batch gradient descent\n",
        "    done = False\n",
        "    previous_loss = float('inf')\n",
        "    i = 0\n",
        "    losses = []\n",
        "    \n",
        "    while done == False:  \n",
        "        z1,a1,z2,output = feed_forward(model, X)\n",
        "        dW1, dW2, db1, db2 = backprop(X,y,model,z1,a1,z2,output,reg_lambda)\n",
        "        \n",
        "        model['W1'] -= learning_rate * dW1\n",
        "        model['b1'] -= learning_rate * db1\n",
        "        model['W2'] -= learning_rate * dW2\n",
        "        model['b2'] -= learning_rate * db2\n",
        "        \n",
        "        if i % 1000 == 0:\n",
        "            loss = calculate_loss(model, X, y, reg_lambda)\n",
        "            losses.append(loss)\n",
        "            print( \"Loss after iteration %i: %f\" %(i, loss)  )\n",
        "            if (previous_loss-loss)/previous_loss < 0.01:\n",
        "                   done = True\n",
        "                    #print i\n",
        "            previous_loss = loss\n",
        "        i += 1\n",
        "    return model, losses"
      ],
      "execution_count": 8,
      "outputs": []
    },
    {
      "cell_type": "code",
      "metadata": {
        "id": "rlJi178lbh2m"
      },
      "source": [
        "X = np.array( [[ 1 , 1], [ 2 , 2],[ 7 , 7], [ 8 , 8], [ 9 , 9]] )\n",
        "\n",
        "y = np.array([0,0,1,1,1])"
      ],
      "execution_count": 9,
      "outputs": []
    },
    {
      "cell_type": "code",
      "metadata": {
        "id": "ocfx25EFbh2o"
      },
      "source": [
        "model = build_model(X , 3 , 2)"
      ],
      "execution_count": 10,
      "outputs": []
    },
    {
      "cell_type": "code",
      "metadata": {
        "colab": {
          "base_uri": "https://localhost:8080/"
        },
        "id": "0XB5ofZWbh2p",
        "outputId": "5a1d85d4-24b2-4007-97a7-7c4b962b943f"
      },
      "source": [
        "model, losses = train ( model, X , y , reg_lambda = 0.01, learning_rate = 0.01 )"
      ],
      "execution_count": 11,
      "outputs": [
        {
          "output_type": "stream",
          "name": "stdout",
          "text": [
            "Loss after iteration 0: 0.481946\n",
            "Loss after iteration 1000: 0.015037\n",
            "Loss after iteration 2000: 0.011577\n"
          ]
        },
        {
          "output_type": "stream",
          "name": "stderr",
          "text": [
            "/usr/local/lib/python3.7/dist-packages/ipykernel_launcher.py:21: RuntimeWarning: invalid value encountered in double_scalars\n"
          ]
        },
        {
          "output_type": "stream",
          "name": "stdout",
          "text": [
            "Loss after iteration 3000: 0.010158\n",
            "Loss after iteration 4000: 0.009171\n",
            "Loss after iteration 5000: 0.008386\n",
            "Loss after iteration 6000: 0.007736\n",
            "Loss after iteration 7000: 0.007188\n",
            "Loss after iteration 8000: 0.006724\n",
            "Loss after iteration 9000: 0.006327\n",
            "Loss after iteration 10000: 0.005987\n",
            "Loss after iteration 11000: 0.005693\n",
            "Loss after iteration 12000: 0.005438\n",
            "Loss after iteration 13000: 0.005217\n",
            "Loss after iteration 14000: 0.005024\n",
            "Loss after iteration 15000: 0.004855\n",
            "Loss after iteration 16000: 0.004706\n",
            "Loss after iteration 17000: 0.004575\n",
            "Loss after iteration 18000: 0.004459\n",
            "Loss after iteration 19000: 0.004356\n",
            "Loss after iteration 20000: 0.004263\n",
            "Loss after iteration 21000: 0.004181\n",
            "Loss after iteration 22000: 0.004110\n",
            "Loss after iteration 23000: 0.004052\n",
            "Loss after iteration 24000: 0.003999\n",
            "Loss after iteration 25000: 0.003953\n",
            "Loss after iteration 26000: 0.003913\n",
            "Loss after iteration 27000: 0.003876\n"
          ]
        }
      ]
    },
    {
      "cell_type": "code",
      "metadata": {
        "colab": {
          "base_uri": "https://localhost:8080/"
        },
        "id": "jdiGfsBnbh2q",
        "outputId": "d00883ca-db6e-4835-a6d9-714d573fab67"
      },
      "source": [
        "output = feed_forward(model, X)\n",
        "preds  = np.argmax(output[3] , axis=1)\n",
        "preds"
      ],
      "execution_count": 12,
      "outputs": [
        {
          "output_type": "execute_result",
          "data": {
            "text/plain": [
              "array([0, 0, 1, 1, 1])"
            ]
          },
          "metadata": {},
          "execution_count": 12
        }
      ]
    },
    {
      "cell_type": "markdown",
      "metadata": {
        "id": "D2WB_lf4d9aK"
      },
      "source": [
        "we can use mlp model instead of these function"
      ]
    },
    {
      "cell_type": "code",
      "metadata": {
        "id": "DjrNk9zgbh2r"
      },
      "source": [
        ""
      ],
      "execution_count": null,
      "outputs": []
    }
  ]
}