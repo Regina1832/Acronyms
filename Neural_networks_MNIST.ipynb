{
  "nbformat": 4,
  "nbformat_minor": 0,
  "metadata": {
    "kernelspec": {
      "display_name": "Python 3",
      "language": "python",
      "name": "python3"
    },
    "language_info": {
      "codemirror_mode": {
        "name": "ipython",
        "version": 3
      },
      "file_extension": ".py",
      "mimetype": "text/x-python",
      "name": "python",
      "nbconvert_exporter": "python",
      "pygments_lexer": "ipython3",
      "version": "3.7.1"
    },
    "colab": {
      "name": "Neural networks-MNIST.ipynb",
      "provenance": [],
      "include_colab_link": true
    }
  },
  "cells": [
    {
      "cell_type": "markdown",
      "metadata": {
        "id": "view-in-github",
        "colab_type": "text"
      },
      "source": [
        "<a href=\"https://colab.research.google.com/github/Regina1832/Acronyms/blob/main/Neural_networks_MNIST.ipynb\" target=\"_parent\"><img src=\"https://colab.research.google.com/assets/colab-badge.svg\" alt=\"Open In Colab\"/></a>"
      ]
    },
    {
      "cell_type": "markdown",
      "metadata": {
        "id": "nViWslqyevjI"
      },
      "source": [
        "![image.png](attachment:image.png)"
      ]
    },
    {
      "cell_type": "code",
      "metadata": {
        "id": "RXxBAU10evjS"
      },
      "source": [
        "from sklearn.neural_network import MLPClassifier\n",
        "from sklearn.datasets import fetch_openml\n",
        "import matplotlib.pyplot as plt"
      ],
      "execution_count": 1,
      "outputs": []
    },
    {
      "cell_type": "code",
      "metadata": {
        "id": "0yImHcnOevjU"
      },
      "source": [
        "X, y = fetch_openml('mnist_784', version=1, return_X_y=True)\n",
        "X = X / 255."
      ],
      "execution_count": 2,
      "outputs": []
    },
    {
      "cell_type": "code",
      "metadata": {
        "colab": {
          "base_uri": "https://localhost:8080/"
        },
        "id": "liXST1MNevjV",
        "outputId": "3e81afa3-eebc-4a92-b52e-0a990da13366"
      },
      "source": [
        "X.shape"
      ],
      "execution_count": 3,
      "outputs": [
        {
          "output_type": "execute_result",
          "data": {
            "text/plain": [
              "(70000, 784)"
            ]
          },
          "metadata": {},
          "execution_count": 3
        }
      ]
    },
    {
      "cell_type": "code",
      "metadata": {
        "colab": {
          "base_uri": "https://localhost:8080/"
        },
        "id": "wZIhxd3MevjX",
        "outputId": "cf6713b5-fced-47d0-aab4-8a2713d0d463"
      },
      "source": [
        "y"
      ],
      "execution_count": 4,
      "outputs": [
        {
          "output_type": "execute_result",
          "data": {
            "text/plain": [
              "array(['5', '0', '4', ..., '4', '5', '6'], dtype=object)"
            ]
          },
          "metadata": {},
          "execution_count": 4
        }
      ]
    },
    {
      "cell_type": "code",
      "metadata": {
        "id": "hT9RstR0evjY"
      },
      "source": [
        "X_train = X[:60000]\n",
        "X_test  = X[60000:]"
      ],
      "execution_count": 5,
      "outputs": []
    },
    {
      "cell_type": "code",
      "metadata": {
        "id": "KPXuHm3pevjY"
      },
      "source": [
        "y_train = y[:60000]\n",
        "y_test  = y[60000:]"
      ],
      "execution_count": 6,
      "outputs": []
    },
    {
      "cell_type": "code",
      "metadata": {
        "id": "l05CLtEfevja"
      },
      "source": [
        "model = MLPClassifier(hidden_layer_sizes=(50,) , max_iter=100 , alpha=1e-4,solver='sgd', random_state=1 \n",
        "                      , learning_rate_init=.1 , verbose=10 , tol=1e-4)"
      ],
      "execution_count": 7,
      "outputs": []
    },
    {
      "cell_type": "code",
      "metadata": {
        "colab": {
          "base_uri": "https://localhost:8080/"
        },
        "id": "aMHU8BWCevja",
        "outputId": "19f6a9f2-daee-41fa-86c2-1d4dbc48d8fd"
      },
      "source": [
        "model.fit(X_train, y_train)"
      ],
      "execution_count": 8,
      "outputs": [
        {
          "output_type": "stream",
          "name": "stdout",
          "text": [
            "Iteration 1, loss = 0.32009978\n",
            "Iteration 2, loss = 0.15347534\n",
            "Iteration 3, loss = 0.11544755\n",
            "Iteration 4, loss = 0.09279764\n",
            "Iteration 5, loss = 0.07889367\n",
            "Iteration 6, loss = 0.07170497\n",
            "Iteration 7, loss = 0.06282111\n",
            "Iteration 8, loss = 0.05530788\n",
            "Iteration 9, loss = 0.04960484\n",
            "Iteration 10, loss = 0.04645355\n",
            "Iteration 11, loss = 0.04082169\n",
            "Iteration 12, loss = 0.03828222\n",
            "Iteration 13, loss = 0.03557957\n",
            "Iteration 14, loss = 0.03054891\n",
            "Iteration 15, loss = 0.02924761\n",
            "Iteration 16, loss = 0.02610471\n",
            "Iteration 17, loss = 0.02363894\n",
            "Iteration 18, loss = 0.02208186\n",
            "Iteration 19, loss = 0.01932900\n",
            "Iteration 20, loss = 0.01830387\n",
            "Iteration 21, loss = 0.01639227\n",
            "Iteration 22, loss = 0.01392950\n",
            "Iteration 23, loss = 0.01270193\n",
            "Iteration 24, loss = 0.01234102\n",
            "Iteration 25, loss = 0.01081313\n",
            "Iteration 26, loss = 0.01028644\n",
            "Iteration 27, loss = 0.00896707\n",
            "Iteration 28, loss = 0.00744908\n",
            "Iteration 29, loss = 0.00707946\n",
            "Iteration 30, loss = 0.00573869\n",
            "Iteration 31, loss = 0.00499554\n",
            "Iteration 32, loss = 0.00477064\n",
            "Iteration 33, loss = 0.00395458\n",
            "Iteration 34, loss = 0.00355619\n",
            "Iteration 35, loss = 0.00375497\n",
            "Iteration 36, loss = 0.00304228\n",
            "Iteration 37, loss = 0.00264245\n",
            "Iteration 38, loss = 0.00241425\n",
            "Iteration 39, loss = 0.00234957\n",
            "Iteration 40, loss = 0.00233803\n",
            "Iteration 41, loss = 0.00204653\n",
            "Iteration 42, loss = 0.00199057\n",
            "Iteration 43, loss = 0.00190567\n",
            "Iteration 44, loss = 0.00180530\n",
            "Iteration 45, loss = 0.00175054\n",
            "Iteration 46, loss = 0.00168160\n",
            "Iteration 47, loss = 0.00162517\n",
            "Iteration 48, loss = 0.00159676\n",
            "Iteration 49, loss = 0.00154993\n",
            "Iteration 50, loss = 0.00152799\n",
            "Iteration 51, loss = 0.00146697\n",
            "Iteration 52, loss = 0.00145257\n",
            "Iteration 53, loss = 0.00143422\n",
            "Iteration 54, loss = 0.00135888\n",
            "Iteration 55, loss = 0.00134281\n",
            "Training loss did not improve more than tol=0.000100 for 10 consecutive epochs. Stopping.\n"
          ]
        },
        {
          "output_type": "execute_result",
          "data": {
            "text/plain": [
              "MLPClassifier(activation='relu', alpha=0.0001, batch_size='auto', beta_1=0.9,\n",
              "              beta_2=0.999, early_stopping=False, epsilon=1e-08,\n",
              "              hidden_layer_sizes=(50,), learning_rate='constant',\n",
              "              learning_rate_init=0.1, max_fun=15000, max_iter=100, momentum=0.9,\n",
              "              n_iter_no_change=10, nesterovs_momentum=True, power_t=0.5,\n",
              "              random_state=1, shuffle=True, solver='sgd', tol=0.0001,\n",
              "              validation_fraction=0.1, verbose=10, warm_start=False)"
            ]
          },
          "metadata": {},
          "execution_count": 8
        }
      ]
    },
    {
      "cell_type": "code",
      "metadata": {
        "colab": {
          "base_uri": "https://localhost:8080/"
        },
        "id": "RmX26F5Eevjb",
        "outputId": "dc3eaaa4-f687-44c8-9504-232f78940ce2"
      },
      "source": [
        "model.score(X_train, y_train)"
      ],
      "execution_count": 9,
      "outputs": [
        {
          "output_type": "execute_result",
          "data": {
            "text/plain": [
              "1.0"
            ]
          },
          "metadata": {},
          "execution_count": 9
        }
      ]
    },
    {
      "cell_type": "code",
      "metadata": {
        "colab": {
          "base_uri": "https://localhost:8080/"
        },
        "id": "2v9bpyIsevjc",
        "outputId": "dd95f3b1-8fce-4aed-f7af-97692b827014"
      },
      "source": [
        "model.score(X_test, y_test)"
      ],
      "execution_count": 10,
      "outputs": [
        {
          "output_type": "execute_result",
          "data": {
            "text/plain": [
              "0.9731"
            ]
          },
          "metadata": {},
          "execution_count": 10
        }
      ]
    },
    {
      "cell_type": "code",
      "metadata": {
        "colab": {
          "base_uri": "https://localhost:8080/",
          "height": 255
        },
        "id": "IaN5JsNbevjd",
        "outputId": "ff63a780-7b42-4717-adf1-f5978026e739"
      },
      "source": [
        "fig, axes = plt.subplots(4, 4)\n",
        "# use global min / max to ensure all weights are shown on the same scale\n",
        "vmin = model.coefs_[0].min()\n",
        "vmax = model.coefs_[0].max()\n",
        "\n",
        "for coef, ax in zip(model.coefs_[0].T, axes.ravel()):\n",
        "    ax.matshow(coef.reshape(28, 28), cmap=plt.cm.gray , vmin=.5 * vmin , vmax=.5 * vmax)\n",
        "    ax.set_xticks(())\n",
        "    ax.set_yticks(())"
      ],
      "execution_count": 11,
      "outputs": [
        {
          "output_type": "display_data",
          "data": {
            "image/png": "[encoded data removed]",
            "text/plain": [
              "<Figure size 432x288 with 16 Axes>"
            ]
          },
          "metadata": {}
        }
      ]
    },
    {
      "cell_type": "code",
      "metadata": {
        "id": "qe331_nPevjd"
      },
      "source": [
        ""
      ],
      "execution_count": null,
      "outputs": []
    }
  ]
}