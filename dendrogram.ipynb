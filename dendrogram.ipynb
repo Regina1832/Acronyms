{
  "cells": [
    {
      "cell_type": "markdown",
      "metadata": {
        "id": "view-in-github",
        "colab_type": "text"
      },
      "source": [
        "<a href=\"https://colab.research.google.com/github/Regina1832/Acronyms/blob/A-course-in-ML/dendrogram.ipynb\" target=\"_parent\"><img src=\"https://colab.research.google.com/assets/colab-badge.svg\" alt=\"Open In Colab\"/></a>"
      ]
    },
    {
      "cell_type": "code",
      "execution_count": 1,
      "metadata": {
        "id": "rudeaeMcs1sP"
      },
      "outputs": [],
      "source": [
        "import  numpy  as  np\n",
        "import  matplotlib.pyplot  as  plt\n",
        "from    scipy.cluster.hierarchy  import  dendrogram , linkage  "
      ]
    },
    {
      "cell_type": "code",
      "execution_count": 2,
      "metadata": {
        "id": "shRiOWz8s1sb"
      },
      "outputs": [],
      "source": [
        "X = np.array([[5,3],[10,15],[15,12],[24,10],[30,30],[85,70],[71,80],[60,78],[70,55],[80,91],])"
      ]
    },
    {
      "cell_type": "code",
      "execution_count": 3,
      "metadata": {
        "colab": {
          "base_uri": "https://localhost:8080/",
          "height": 320
        },
        "id": "gn1ARse_s1sd",
        "outputId": "97029bc3-08f8-4f40-c570-537b350c8d9b"
      },
      "outputs": [
        {
          "output_type": "display_data",
          "data": {
            "image/png": "[encoded data removed]",
            "text/plain": [
              "<Figure size 360x360 with 1 Axes>"
            ]
          },
          "metadata": {
            "needs_background": "light"
          }
        }
      ],
      "source": [
        "labels = range(1, 11)  \n",
        "plt.figure(figsize=(5, 5))  \n",
        "#plt.subplots_adjust(bottom=0.1)  \n",
        "plt.scatter(X[:,0],X[:,1], label='True Position')\n",
        "\n",
        "for label,x,y in  zip(labels, X[:,0], X[:,1]):  \n",
        "    plt.annotate(label , xy =(x,y) , xytext=(-3,3) , textcoords='offset points')"
      ]
    },
    {
      "cell_type": "code",
      "execution_count": 4,
      "metadata": {
        "colab": {
          "base_uri": "https://localhost:8080/",
          "height": 268
        },
        "id": "rAmTnsSJs1sf",
        "outputId": "cc148a07-fbef-4515-bebc-22dda399ebc3"
      },
      "outputs": [
        {
          "output_type": "display_data",
          "data": {
            "image/png": "[encoded data removed]",
            "text/plain": [
              "<Figure size 432x288 with 1 Axes>"
            ]
          },
          "metadata": {
            "needs_background": "light"
          }
        }
      ],
      "source": [
        "dendrogram( linkage(X,'single'), labels=range(1, 11) );"
      ]
    },
    {
      "cell_type": "code",
      "execution_count": 5,
      "metadata": {
        "colab": {
          "base_uri": "https://localhost:8080/",
          "height": 265
        },
        "id": "dmNnQ8B-s1sh",
        "outputId": "a585ed72-9bef-49fd-890e-f9fd08b48358"
      },
      "outputs": [
        {
          "output_type": "display_data",
          "data": {
            "image/png": "[encoded data removed]",
            "text/plain": [
              "<Figure size 432x288 with 1 Axes>"
            ]
          },
          "metadata": {
            "needs_background": "light"
          }
        }
      ],
      "source": [
        "dendrogram(linkage(X ,'single'),  \n",
        "            orientation = 'right',\n",
        "            labels = range(1 , 11),\n",
        "            distance_sort = 'descending',\n",
        "            show_leaf_counts=True);"
      ]
    },
    {
      "cell_type": "code",
      "execution_count": null,
      "metadata": {
        "id": "gfuBrZs8s1sj"
      },
      "outputs": [],
      "source": [
        ""
      ]
    }
  ],
  "metadata": {
    "kernelspec": {
      "display_name": "Python 3",
      "language": "python",
      "name": "python3"
    },
    "language_info": {
      "codemirror_mode": {
        "name": "ipython",
        "version": 3
      },
      "file_extension": ".py",
      "mimetype": "text/x-python",
      "name": "python",
      "nbconvert_exporter": "python",
      "pygments_lexer": "ipython3",
      "version": "3.7.1"
    },
    "colab": {
      "name": "dendrogram.ipynb",
      "provenance": [],
      "include_colab_link": true
    }
  },
  "nbformat": 4,
  "nbformat_minor": 0
}