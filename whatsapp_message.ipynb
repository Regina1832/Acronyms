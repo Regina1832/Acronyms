{
  "nbformat": 4,
  "nbformat_minor": 0,
  "metadata": {
    "colab": {
      "name": "whatsapp message.ipynb",
      "provenance": [],
      "authorship_tag": "ABX9TyMwtXNBiiadIXlyBjO5aKc5",
      "include_colab_link": true
    },
    "kernelspec": {
      "name": "python3",
      "display_name": "Python 3"
    },
    "language_info": {
      "name": "python"
    }
  },
  "cells": [
    {
      "cell_type": "markdown",
      "metadata": {
        "id": "view-in-github",
        "colab_type": "text"
      },
      "source": [
        "<a href=\"https://colab.research.google.com/github/Regina1832/Acronyms/blob/A-course-in-ML/whatsapp_message.ipynb\" target=\"_parent\"><img src=\"https://colab.research.google.com/assets/colab-badge.svg\" alt=\"Open In Colab\"/></a>"
      ]
    },
    {
      "cell_type": "code",
      "execution_count": null,
      "metadata": {
        "id": "8fXsCzEpYuV1"
      },
      "outputs": [],
      "source": [
        "import regex\n",
        "import pandas as pd\n",
        "import numpy as np\n",
        "import emoji\n",
        "from collections import Counter\n",
        "import matplotlib.pyplot as plt\n",
        "from wordcloud import WordCloud, STOPWORDS, ImageColorGenerator"
      ]
    },
    {
      "cell_type": "code",
      "source": [
        "def date_time(s):\n",
        "    pattern = '^([0-9]+)(\\/)([0-9]+)(\\/)([0-9]+), ([0-9]+):([0-9]+)[ ]?(AM|PM|am|pm)? -'\n",
        "    result = regex.match(pattern, s)\n",
        "    if result:\n",
        "        return True\n",
        "    return False\n",
        "\n",
        "def find_author(s):\n",
        "    s = s.split(\":\")\n",
        "    if len(s)==2:\n",
        "        return True\n",
        "    else:\n",
        "        return False\n",
        "\n",
        "def getDatapoint(line):\n",
        "    splitline = line.split(' - ')\n",
        "    dateTime = splitline[0]\n",
        "    date, time = dateTime.split(\", \")\n",
        "    message = \" \".join(splitline[1:])\n",
        "    if find_author(message):\n",
        "        splitmessage = message.split(\": \")\n",
        "        author = splitmessage[0]\n",
        "        message = \" \".join(splitmessage[1:])\n",
        "    else:\n",
        "        author= None\n",
        "    return date, time, author, message"
      ],
      "metadata": {
        "id": "GAuw5lcLaH0r"
      },
      "execution_count": null,
      "outputs": []
    },
    {
      "cell_type": "code",
      "source": [
        "data = []\n",
        "conversation = '1.txt'\n",
        "with open(conversation, encoding=\"utf-8\") as fp:\n",
        "    fp.readline()\n",
        "    messageBuffer = []\n",
        "    date, time, author = None, None, None\n",
        "    while True:\n",
        "        line = fp.readline()\n",
        "        if not line:\n",
        "            break\n",
        "        line = line.strip()\n",
        "        if date_time(line):\n",
        "            if len(messageBuffer) > 0:\n",
        "                data.append([date, time, author, ' '.join(messageBuffer)])\n",
        "            messageBuffer.clear()\n",
        "            date, time, author, message = getDatapoint(line)\n",
        "            messageBuffer.append(message)\n",
        "        else:\n",
        "            messageBuffer.append(line)"
      ],
      "metadata": {
        "id": "hc1thNGsa_0d"
      },
      "execution_count": null,
      "outputs": []
    },
    {
      "cell_type": "code",
      "source": [
        "df = pd.DataFrame(data, columns=[\"Date\", 'Time', 'Author', 'Message'])\n",
        "df['Date'] = pd.to_datetime(df['Date'])\n",
        "print(df.tail(20))\n",
        "print(df.info())\n",
        "print(df.Author.unique())"
      ],
      "metadata": {
        "colab": {
          "base_uri": "https://localhost:8080/"
        },
        "id": "KtxxdnC4btxG",
        "outputId": "5430e27f-d6c1-43b6-d03d-986256d104c5"
      },
      "execution_count": null,
      "outputs": [
        {
          "output_type": "stream",
          "name": "stdout",
          "text": [
            "Empty DataFrame\n",
            "Columns: [Date, Time, Author, Message]\n",
            "Index: []\n",
            "<class 'pandas.core.frame.DataFrame'>\n",
            "Index: 0 entries\n",
            "Data columns (total 4 columns):\n",
            " #   Column   Non-Null Count  Dtype         \n",
            "---  ------   --------------  -----         \n",
            " 0   Date     0 non-null      datetime64[ns]\n",
            " 1   Time     0 non-null      object        \n",
            " 2   Author   0 non-null      object        \n",
            " 3   Message  0 non-null      object        \n",
            "dtypes: datetime64[ns](1), object(3)\n",
            "memory usage: 0.0+ bytes\n",
            "None\n",
            "[]\n"
          ]
        }
      ]
    },
    {
      "cell_type": "code",
      "source": [
        "!pip install emoji"
      ],
      "metadata": {
        "colab": {
          "base_uri": "https://localhost:8080/"
        },
        "id": "zDOufu-jY_Jg",
        "outputId": "443330da-bcdb-4471-c17d-3a97eeab0151"
      },
      "execution_count": null,
      "outputs": [
        {
          "output_type": "stream",
          "name": "stdout",
          "text": [
            "Collecting emoji\n",
            "  Downloading emoji-1.7.0.tar.gz (175 kB)\n",
            "\u001b[?25l\r\u001b[K     |█▉                              | 10 kB 14.4 MB/s eta 0:00:01\r\u001b[K     |███▊                            | 20 kB 20.5 MB/s eta 0:00:01\r\u001b[K     |█████▋                          | 30 kB 21.2 MB/s eta 0:00:01\r\u001b[K     |███████▌                        | 40 kB 14.1 MB/s eta 0:00:01\r\u001b[K     |█████████▍                      | 51 kB 7.9 MB/s eta 0:00:01\r\u001b[K     |███████████▏                    | 61 kB 9.2 MB/s eta 0:00:01\r\u001b[K     |█████████████                   | 71 kB 9.2 MB/s eta 0:00:01\r\u001b[K     |███████████████                 | 81 kB 7.4 MB/s eta 0:00:01\r\u001b[K     |████████████████▉               | 92 kB 8.2 MB/s eta 0:00:01\r\u001b[K     |██████████████████▊             | 102 kB 8.8 MB/s eta 0:00:01\r\u001b[K     |████████████████████▌           | 112 kB 8.8 MB/s eta 0:00:01\r\u001b[K     |██████████████████████▍         | 122 kB 8.8 MB/s eta 0:00:01\r\u001b[K     |████████████████████████▎       | 133 kB 8.8 MB/s eta 0:00:01\r\u001b[K     |██████████████████████████▏     | 143 kB 8.8 MB/s eta 0:00:01\r\u001b[K     |████████████████████████████    | 153 kB 8.8 MB/s eta 0:00:01\r\u001b[K     |█████████████████████████████▉  | 163 kB 8.8 MB/s eta 0:00:01\r\u001b[K     |███████████████████████████████▊| 174 kB 8.8 MB/s eta 0:00:01\r\u001b[K     |████████████████████████████████| 175 kB 8.8 MB/s \n",
            "\u001b[?25hBuilding wheels for collected packages: emoji\n",
            "  Building wheel for emoji (setup.py) ... \u001b[?25l\u001b[?25hdone\n",
            "  Created wheel for emoji: filename=emoji-1.7.0-py3-none-any.whl size=171046 sha256=93b552283ed17b17c9905c4aa2cb9733646e8202b550423645d9dcbc2c4e4bbd\n",
            "  Stored in directory: /root/.cache/pip/wheels/8a/4e/b6/57b01db010d17ef6ea9b40300af725ef3e210cb1acfb7ac8b6\n",
            "Successfully built emoji\n",
            "Installing collected packages: emoji\n",
            "Successfully installed emoji-1.7.0\n"
          ]
        }
      ]
    }
  ]
}